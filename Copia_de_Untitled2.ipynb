{
  "nbformat": 4,
  "nbformat_minor": 0,
  "metadata": {
    "colab": {
      "provenance": [],
      "authorship_tag": "ABX9TyMtqoNDKzJSVlaDDf8hRC93",
      "include_colab_link": true
    },
    "kernelspec": {
      "name": "python3",
      "display_name": "Python 3"
    },
    "language_info": {
      "name": "python"
    }
  },
  "cells": [
    {
      "cell_type": "markdown",
      "metadata": {
        "id": "view-in-github",
        "colab_type": "text"
      },
      "source": [
        "<a href=\"https://colab.research.google.com/github/Dayana979/Evaluacion/blob/main/Copia_de_Untitled2.ipynb\" target=\"_parent\"><img src=\"https://colab.research.google.com/assets/colab-badge.svg\" alt=\"Open In Colab\"/></a>"
      ]
    },
    {
      "cell_type": "code",
      "execution_count": null,
      "metadata": {
        "id": "MYc-f7NJw51J"
      },
      "outputs": [],
      "source": [
        "# TAREA de curso de IBM"
      ]
    },
    {
      "cell_type": "markdown",
      "source": [
        "## TAREA de curso de IBM  Herramienta para la Ciencia de Datos\n",
        "\n",
        "\n"
      ],
      "metadata": {
        "id": "HK6tEIjrxR98"
      }
    },
    {
      "cell_type": "markdown",
      "source": [
        "## Lenguajes de Ciencia de Datos\n",
        "- Python\n",
        "- R\n",
        "- SQL\n",
        "- Julia"
      ],
      "metadata": {
        "id": "5czwLSNoxcZS"
      }
    },
    {
      "cell_type": "markdown",
      "source": [
        "## Bibliotecas de Ciencia de Datos\n",
        "- Pandas\n",
        "- NumPy\n",
        "- Scikit-learn\n",
        "- Matplotlib"
      ],
      "metadata": {
        "id": "zNH35i_sx7u0"
      }
    },
    {
      "cell_type": "markdown",
      "source": [
        "| Herramienta       | Descripción                      |\n",
        "|-------------------|----------------------------------|\n",
        "| Jupyter Notebook   | Entorno interactivo para código  |\n",
        "| Anaconda           | Distribución de Python           |\n",
        "| GitHub             | Control de versiones             |"
      ],
      "metadata": {
        "id": "U5ri05rGyBv7"
      }
    },
    {
      "cell_type": "markdown",
      "source": [
        "## Ejemplos de Expresiones Aritméticas\n",
        "- Suma: `2 + 3`= 5\n",
        "- Multiplicación: `4 * 5`= 20"
      ],
      "metadata": {
        "id": "uy0JhKNEyCvX"
      }
    },
    {
      "cell_type": "code",
      "source": [
        "# Multiplicación y Suma\n",
        "resultado = (2 * 3) + (4 + 5)\n",
        "print(resultado) # La salida deberia ser 15"
      ],
      "metadata": {
        "colab": {
          "base_uri": "https://localhost:8080/"
        },
        "id": "5tKAHaZpyIBk",
        "outputId": "86bec5d4-ca53-4138-fc64-8c00b81f28c1"
      },
      "execution_count": null,
      "outputs": [
        {
          "output_type": "stream",
          "name": "stdout",
          "text": [
            "15\n"
          ]
        }
      ]
    },
    {
      "cell_type": "code",
      "source": [
        "# Conversión de minutos a horas\n",
        "minutos = 120\n",
        "horas = minutos / 60\n",
        "print(f\"{minutos} minutos son {horas} horas.\") # La salida deberia ser 2.0"
      ],
      "metadata": {
        "colab": {
          "base_uri": "https://localhost:8080/"
        },
        "id": "TaasXtOkyWRw",
        "outputId": "2cbd6caf-4fc4-4afc-e351-fc06a8c8df53"
      },
      "execution_count": null,
      "outputs": [
        {
          "output_type": "stream",
          "name": "stdout",
          "text": [
            "120 minutos son 2.0 horas.\n"
          ]
        }
      ]
    },
    {
      "cell_type": "code",
      "source": [
        "# Objetivos del proyecto\n",
        "objetivos = [\"Aprender sobre Jupyter\", \"Practicar Python\", \"Explorar la ciencia de datos\"]\n",
        "for objetivo in objetivos:\n",
        "   print(objetivo)"
      ],
      "metadata": {
        "colab": {
          "base_uri": "https://localhost:8080/"
        },
        "id": "T0Cgq9VHygdA",
        "outputId": "8d1ccd1b-81d3-47eb-fa45-47fcef76e3ef"
      },
      "execution_count": null,
      "outputs": [
        {
          "output_type": "stream",
          "name": "stdout",
          "text": [
            "Aprender sobre Jupyter\n",
            "Practicar Python\n",
            "Explorar la ciencia de datos\n"
          ]
        }
      ]
    },
    {
      "cell_type": "markdown",
      "source": [
        "## DAYANA JASMIN CONTRERAS"
      ],
      "metadata": {
        "id": "6hItUvZRywGZ"
      }
    }
  ]
}